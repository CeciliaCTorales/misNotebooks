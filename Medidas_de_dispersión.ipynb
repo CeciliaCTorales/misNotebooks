{
  "nbformat": 4,
  "nbformat_minor": 0,
  "metadata": {
    "colab": {
      "provenance": [],
      "authorship_tag": "ABX9TyOCq3ugDkQoPDQ6gCFrES1+",
      "include_colab_link": true
    },
    "kernelspec": {
      "name": "python3",
      "display_name": "Python 3"
    },
    "language_info": {
      "name": "python"
    }
  },
  "cells": [
    {
      "cell_type": "markdown",
      "metadata": {
        "id": "view-in-github",
        "colab_type": "text"
      },
      "source": [
        "<a href=\"https://colab.research.google.com/github/CeciliaCTorales/misNotebooks/blob/main/Medidas_de_dispersi%C3%B3n.ipynb\" target=\"_parent\"><img src=\"https://colab.research.google.com/assets/colab-badge.svg\" alt=\"Open In Colab\"/></a>"
      ]
    },
    {
      "cell_type": "markdown",
      "source": [
        "# Objetivos:\n",
        "- Calcular el rango, la varianza y la desviación standard de las ventas mensuales.\n",
        "- Reconocer cómo estas medidas de dispersión informan sobre la estbilidad de las ventas."
      ],
      "metadata": {
        "id": "nrFbC0N2IMF6"
      }
    },
    {
      "cell_type": "code",
      "execution_count": 3,
      "metadata": {
        "id": "_wgZnOpqH4Om"
      },
      "outputs": [],
      "source": [
        "import numpy as np\n",
        "import pandas as pd\n",
        "\n",
        "# generamos un dataset sencillo\n",
        "ventas = {\n",
        "    'Mes': ['Enero', 'Febrero', 'Marzo', 'Abril', 'Mayo', 'Junio', 'Julio', 'Agosto', 'Septiembre', 'Octubre', 'Noviembre', 'Diciembre'],\n",
        "    'ventas (millones)': [1.2, 2.5, 3.1, 18.3, 40.5, 52.1, 54.8, 46.2, 25.5, 13.8, 11.9, 9.2] # Datos de ejemplo en millones\n",
        "}\n",
        "\n",
        "df_ventas = pd.DataFrame(ventas)"
      ]
    },
    {
      "cell_type": "markdown",
      "source": [
        "1. Calcular el rango de las ventas\n",
        "\n",
        "El rango es la diferencia entre el valor máximo y el mínimo de un conjunto de datos"
      ],
      "metadata": {
        "id": "B7vQdOuWIm6o"
      }
    },
    {
      "cell_type": "code",
      "source": [
        "rango = np.max(df_ventas['ventas (millones)']) - np.min(df_ventas['ventas (millones)'])\n",
        "print(f'El rango es: {rango}')"
      ],
      "metadata": {
        "colab": {
          "base_uri": "https://localhost:8080/"
        },
        "id": "NgbliN0fI85m",
        "outputId": "f0cfd6a3-55d3-4f17-94b5-738cb9b10563"
      },
      "execution_count": 4,
      "outputs": [
        {
          "output_type": "stream",
          "name": "stdout",
          "text": [
            "El rango es: 53.599999999999994\n"
          ]
        }
      ]
    },
    {
      "cell_type": "markdown",
      "source": [
        "2. Calcular la varianza de las ventas\n",
        "\n",
        "La varianza (al igual que la desviación) es una medida de la dispersión de los datos. Sus valores están expresados al cuadrado.\n",
        "La varianza mide cuan dispersos están los valores, respecto a la media."
      ],
      "metadata": {
        "id": "cH269GtzIqI2"
      }
    },
    {
      "cell_type": "code",
      "source": [
        "\n",
        "varianza = np.var(df_ventas['ventas (millones)'])\n",
        "print(f'La varianza es: {varianza}')"
      ],
      "metadata": {
        "colab": {
          "base_uri": "https://localhost:8080/"
        },
        "id": "VMX1VNxdJkZL",
        "outputId": "2ffbe473-e002-41e6-f86a-2455cd3843f3"
      },
      "execution_count": 5,
      "outputs": [
        {
          "output_type": "stream",
          "name": "stdout",
          "text": [
            "La varianza es: 368.3224305555555\n"
          ]
        }
      ]
    },
    {
      "cell_type": "markdown",
      "source": [
        "3 - Calcular la desviación Standard de las ventas\n",
        "Es la raiz cuadrada de la varianza, proporcionando una medida de dispersión en las mismas unidades que los datos origianles."
      ],
      "metadata": {
        "id": "2A2GTpmIIshP"
      }
    },
    {
      "cell_type": "code",
      "source": [
        "desviacion_std = np.std(df_ventas['ventas (millones)'])\n",
        "print(f'La Desviación Estándard es:  {desviacion_std}')"
      ],
      "metadata": {
        "colab": {
          "base_uri": "https://localhost:8080/"
        },
        "id": "F_YJTTtzKkln",
        "outputId": "0125d0d1-a0ca-46e6-81e6-8a39feffbaaa"
      },
      "execution_count": 7,
      "outputs": [
        {
          "output_type": "stream",
          "name": "stdout",
          "text": [
            "La Desviación Estándard es:  19.19172818053537\n"
          ]
        }
      ]
    },
    {
      "cell_type": "code",
      "source": [
        "media = np.mean(df_ventas['ventas (millones)'])\n",
        "CV = desviacion_std / media *100\n",
        "print(f'El Coeficiente de variación es: {round(CV,2)}')\n",
        "print(f'La media es: {round(media,2)}')"
      ],
      "metadata": {
        "colab": {
          "base_uri": "https://localhost:8080/"
        },
        "id": "wPB0I7l3LqJW",
        "outputId": "f301d21a-c0fc-481e-a05b-1a6fe5b66540"
      },
      "execution_count": 13,
      "outputs": [
        {
          "output_type": "stream",
          "name": "stdout",
          "text": [
            "El Coeficiente de variación es: 82.52\n",
            "La media es: 23.26\n"
          ]
        }
      ]
    },
    {
      "cell_type": "markdown",
      "source": [
        "# Análisis\n",
        "El coeficiente de variación es útil para analizar la desviación Estándar. Es el porcentaje que representa la desviación estándar respecto de la media.\n",
        "- Una desviación Estándar de 19.19 (cada dato se aleja en promedio 19 millones de la media)\n",
        "- El Coeficiente de variación del 82% es alto e indica que los datos están muy dispersos respecto de la media.\n",
        "\n",
        "- Esta información indica que las ventas no son uniformes a lo largo del año, es decir algunos meses tuvieron ventas muy bajas y otros muy altas."
      ],
      "metadata": {
        "id": "DkE8DAg0NKwM"
      }
    }
  ]
}