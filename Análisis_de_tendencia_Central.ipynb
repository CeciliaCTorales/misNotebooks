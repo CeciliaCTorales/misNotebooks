{
  "nbformat": 4,
  "nbformat_minor": 0,
  "metadata": {
    "colab": {
      "provenance": [],
      "authorship_tag": "ABX9TyMAyXo49FrNg7KnbQn6wfiV",
      "include_colab_link": true
    },
    "kernelspec": {
      "name": "python3",
      "display_name": "Python 3"
    },
    "language_info": {
      "name": "python"
    }
  },
  "cells": [
    {
      "cell_type": "markdown",
      "metadata": {
        "id": "view-in-github",
        "colab_type": "text"
      },
      "source": [
        "<a href=\"https://colab.research.google.com/github/CeciliaCTorales/misNotebooks/blob/main/An%C3%A1lisis_de_tendencia_Central.ipynb\" target=\"_parent\"><img src=\"https://colab.research.google.com/assets/colab-badge.svg\" alt=\"Open In Colab\"/></a>"
      ]
    },
    {
      "cell_type": "markdown",
      "source": [
        "# Objetivos\n",
        "- Calcular la media, la mediana y la moda de las ventas mensuales\n",
        "- Comprender la importancia de estas medidas en el análisis d datos de ventas"
      ],
      "metadata": {
        "id": "-gWiPqquBnz9"
      }
    },
    {
      "cell_type": "code",
      "source": [
        "\n",
        "import numpy as np\n",
        "import pandas as pd\n",
        "\n",
        "# generamos un dataset sencillo\n",
        "ventas = {\n",
        "    'Mes': ['Enero', 'Febrero', 'Marzo', 'Abril', 'Mayo', 'Junio', 'Julio', 'Agosto', 'Septiembre', 'Octubre', 'Noviembre', 'Diciembre'],\n",
        "    'ventas (millones)': [1.2, 2.5, 3.1, 18.3, 40.5, 52.1, 54.8, 46.2, 25.5, 13.8, 11.9, 9.2] # Datos de ejemplo en millones\n",
        "}\n",
        "\n",
        "df_ventas = pd.DataFrame(ventas)\n"
      ],
      "metadata": {
        "id": "6Weu4g3zCM8F"
      },
      "execution_count": 2,
      "outputs": []
    },
    {
      "cell_type": "markdown",
      "source": [
        "1.   Calcular la media de las ventas\n",
        "\n",
        "La media, o promedio es la suma de todos los valores de un conjunto de datos dividida por la cantidad total de valores. Se expresa de la siguiente manera:\n",
        "\n",
        "\n"
      ],
      "metadata": {
        "id": "MHSSKbYJB--c"
      }
    },
    {
      "cell_type": "code",
      "execution_count": 6,
      "metadata": {
        "colab": {
          "base_uri": "https://localhost:8080/"
        },
        "id": "2-BJKtNnAhb5",
        "outputId": "bfa1c74f-fde8-4a10-dd5e-31b5b0bb9303"
      },
      "outputs": [
        {
          "output_type": "stream",
          "name": "stdout",
          "text": [
            "La media es: 23.25833333333333\n"
          ]
        }
      ],
      "source": [
        "media = np.mean(df_ventas['ventas (millones)'])\n",
        "print(f'La media es: {media}')"
      ]
    },
    {
      "cell_type": "markdown",
      "source": [
        "2. Calcular la mediana de las ventas\n",
        "\n",
        "Es el valor que se encuentra en el medio de un conjunto de datos ordenados"
      ],
      "metadata": {
        "id": "Xd9Qs0jWC92J"
      }
    },
    {
      "cell_type": "code",
      "source": [
        "mediana = np.median(df_ventas['ventas (millones)'])\n",
        "print(f'La mediana es: {mediana}')"
      ],
      "metadata": {
        "colab": {
          "base_uri": "https://localhost:8080/"
        },
        "id": "fAsPUaIgDFZx",
        "outputId": "37172322-bee7-4dd6-c3fa-1a84c48ac67e"
      },
      "execution_count": 8,
      "outputs": [
        {
          "output_type": "stream",
          "name": "stdout",
          "text": [
            "La mediana es: 16.05\n"
          ]
        }
      ]
    },
    {
      "cell_type": "markdown",
      "source": [
        "3. Calcular la moda de las ventas\n",
        "\n",
        "Es el valor que aparece con mayor frecuencia en un conjunto de datos."
      ],
      "metadata": {
        "id": "mxFJPEzADFi4"
      }
    },
    {
      "cell_type": "code",
      "source": [
        "from scipy import stats\n",
        "\n",
        "moda = stats.mode(df_ventas['ventas (millones)'])[0]\n",
        "\n",
        "print(f'La moda es: {moda}')"
      ],
      "metadata": {
        "colab": {
          "base_uri": "https://localhost:8080/"
        },
        "id": "mBTfa3Q_GOsq",
        "outputId": "9a2b2c7d-76e6-4177-b560-30f8d11c2de3"
      },
      "execution_count": 11,
      "outputs": [
        {
          "output_type": "stream",
          "name": "stdout",
          "text": [
            "La moda es: 1.2\n"
          ]
        }
      ]
    }
  ]
}